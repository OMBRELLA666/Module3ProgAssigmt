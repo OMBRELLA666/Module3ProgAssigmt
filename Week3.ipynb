{
  "metadata": {
    "kernelspec": {
      "name": "python",
      "display_name": "Python (Pyodide)",
      "language": "python"
    },
    "language_info": {
      "codemirror_mode": {
        "name": "python",
        "version": 3
      },
      "file_extension": ".py",
      "mimetype": "text/x-python",
      "name": "python",
      "nbconvert_exporter": "python",
      "pygments_lexer": "ipython3",
      "version": "3.8"
    }
  },
  "nbformat_minor": 5,
  "nbformat": 4,
  "cells": [
    {
      "id": "706139ea-1f4c-4415-b128-b9f269ca7724",
      "cell_type": "code",
      "source": "# 7.4\nthings = [\"mozzarella\", \"cinderella\", \"salmonella\"]\nprint(\"7.4:\", things)",
      "metadata": {
        "trusted": true
      },
      "outputs": [
        {
          "name": "stdout",
          "output_type": "stream",
          "text": "7.4: ['mozzarella', 'cinderella', 'salmonella']\n"
        }
      ],
      "execution_count": 1
    },
    {
      "id": "c31b9f20-e8ec-4ad9-8ae8-a4a5ae5ee587",
      "cell_type": "code",
      "source": "# 7.5\nthings[1] = things[1].capitalize()\nprint(\"7.5:\", things)",
      "metadata": {
        "trusted": true
      },
      "outputs": [
        {
          "name": "stdout",
          "output_type": "stream",
          "text": "7.5: ['mozzarella', 'Cinderella', 'salmonella']\n"
        }
      ],
      "execution_count": 2
    },
    {
      "id": "796fe20f-875f-49ad-bcde-d7b2f097857f",
      "cell_type": "code",
      "source": "# 7.6\nthings[0] = things[0].upper()\nprint(\"7.6:\", things)",
      "metadata": {
        "trusted": true
      },
      "outputs": [
        {
          "name": "stdout",
          "output_type": "stream",
          "text": "7.6: ['MOZZARELLA', 'Cinderella', 'salmonella']\n"
        }
      ],
      "execution_count": 3
    },
    {
      "id": "b1190e28-61b0-4b22-bc06-3c8cec36479b",
      "cell_type": "code",
      "source": "# 7.7\ndel things[2]\nprint(\"7.7:\", things)",
      "metadata": {
        "trusted": true
      },
      "outputs": [
        {
          "name": "stdout",
          "output_type": "stream",
          "text": "7.7: ['MOZZARELLA', 'Cinderella']\n"
        }
      ],
      "execution_count": 4
    },
    {
      "id": "623574f6-ae9c-4b2b-ba1c-2225eb2d0b88",
      "cell_type": "code",
      "source": "# 9.1\ndef good():\n    return ['Harry', 'Ron', 'Hermione']\n\nprint(\"9.1:\", good())",
      "metadata": {
        "trusted": true
      },
      "outputs": [
        {
          "name": "stdout",
          "output_type": "stream",
          "text": "9.1: ['Harry', 'Ron', 'Hermione']\n"
        }
      ],
      "execution_count": 5
    },
    {
      "id": "05721472-5115-4a90-9fad-bbb15bd8a89b",
      "cell_type": "code",
      "source": "# 9.2\ndef get_odds():\n    for number in range(10):\n        if number % 2 != 0:\n            yield number\n\n# Get the third odd number using a loop\ncount = 0\nfor num in get_odds():\n    count += 1\n    if count == 3:\n        print(\"9.2: The third odd number is\", num)\n        break",
      "metadata": {
        "trusted": true
      },
      "outputs": [
        {
          "name": "stdout",
          "output_type": "stream",
          "text": "9.2: The third odd number is 5\n"
        }
      ],
      "execution_count": 7
    },
    {
      "id": "a56a3f42-0b04-459d-a692-4faadcf43b84",
      "cell_type": "code",
      "source": "",
      "metadata": {
        "trusted": true
      },
      "outputs": [],
      "execution_count": null
    }
  ]
}